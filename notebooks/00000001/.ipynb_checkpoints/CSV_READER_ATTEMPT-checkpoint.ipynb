{
 "cells": [
  {
   "cell_type": "code",
   "execution_count": 23,
   "metadata": {
    "collapsed": false
   },
   "outputs": [
    {
     "name": "stdout",
     "output_type": "stream",
     "text": [
      "Number of mislabeled points out of a total 96320 points : 46224\n"
     ]
    }
   ],
   "source": [
    "import csv\n",
    "import pandas as pd\n",
    "from sklearn.naive_bayes import GaussianNB\n",
    "\n",
    "# with open('/numerai_datasets/numerai_training_data.csv', mode='r') as infile:\n",
    "#        reader = csv.reader(infile)\n",
    "#        myDatapoints = [rows[0] for rows in reader]\n",
    "# print myDatapoints[0]\n",
    "\n",
    "df = pd.read_csv('...fullPath/00000001/numerai_datasets/numerai_training_data.csv')\n",
    "# df.shape\n",
    "\n",
    "gnb = GaussianNB()\n",
    "# y_pred = gnb.fit(iris.data, iris.target).predict(iris.data)\n",
    "dfSub = df.iloc[:,0:20]\n",
    "dfTarget = df.iloc[:,21]\n",
    "\n",
    "# from sklearn import datasets\n",
    "# >>> iris = datasets.load_iris()\n",
    "# >>> from sklearn.naive_bayes import GaussianNB\n",
    "# >>> gnb = GaussianNB()\n",
    "# >>> y_pred = gnb.fit(iris.data, iris.target).predict(iris.data)\n",
    "# >>> print(\"Number of mislabeled points out of a total %d points : %d\" % (iris.data.shape[0],(iris.target != y_pred).sum()))\n",
    "# Number of mislabeled points out of a total 150 points : 6\n",
    "    \n",
    "    \n",
    "\n",
    "y_pred = gnb.fit(dfSub, dfTarget).predict(dfSub)\n",
    "\n",
    "print(\"Number of mislabeled points out of a total %d points : %d\" % (dfSub.shape[0],(dfTarget != y_pred).sum()))\n"
   ]
  },
  {
   "cell_type": "code",
   "execution_count": null,
   "metadata": {
    "collapsed": true
   },
   "outputs": [],
   "source": []
  }
 ],
 "metadata": {
  "kernelspec": {
   "display_name": "Python 2",
   "language": "python",
   "name": "python2"
  },
  "language_info": {
   "codemirror_mode": {
    "name": "ipython",
    "version": 2
   },
   "file_extension": ".py",
   "mimetype": "text/x-python",
   "name": "python",
   "nbconvert_exporter": "python",
   "pygments_lexer": "ipython2",
   "version": "2.7.11"
  }
 },
 "nbformat": 4,
 "nbformat_minor": 1
}
